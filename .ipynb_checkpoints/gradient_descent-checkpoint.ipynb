{
 "cells": [
  {
   "cell_type": "code",
   "execution_count": null,
   "metadata": {},
   "outputs": [],
   "source": [
    "#given input\n",
    "inp = 2\n",
    "\n",
    "#initial weight\n",
    "weight = 0.5\n",
    "\n",
    "#desired output - goal prediction\n",
    "goal_pred = 0.8"
   ]
  },
  {
   "cell_type": "code",
   "execution_count": null,
   "metadata": {},
   "outputs": [],
   "source": [
    "#alpha\n",
    "alpha = 0.1\n",
    "\n",
    "for iteration in range(15):\n",
    "    #prediction\n",
    "    pred = inp * weight\n",
    "    # measuring the error\n",
    "    error = (pred - goal_pred)** 2\n",
    "    #pure error\n",
    "    delta = pred - goal_pred\n",
    "    #fining the direction and amount for weight update\n",
    "    derivative = delta * inp\n",
    "    #updating the weight to reduce the error\n",
    "    weight = weight - (alpha *  derivative)\n",
    "    \n",
    "print(\"Iteration: \" + str(iteration + 1) + \" Error:\" + str(round(error,3)) + \n",
    "      \" Prediction:\" + str(round(pred,3)))"
   ]
  },
  {
   "cell_type": "code",
   "execution_count": null,
   "metadata": {},
   "outputs": [],
   "source": [
    "def neural_network(inp, weights):\n",
    "    out = 0\n",
    "    for i in range(len(inp)):\n",
    "        out += (inp[i] * weights[i])\n",
    "    return out\n",
    "\n",
    "def ele_mul(scalar, vector):\n",
    "    out = [0,0,0]\n",
    "    for i in range(len(out)):\n",
    "        out[i] = vector[i] * scalar\n",
    "    return out\n",
    "\n",
    "\n",
    "true = 1\n",
    "alpha = 0.01\n",
    "weights = [0.1, 0.2, -.1]\n",
    "inp = [8.5,0.65,1.2]\n",
    "\n",
    "for iter in range(3):\n",
    "    pred = neural_network(inp,weights)\n",
    "    error = (pred - true) ** 2\n",
    "    delta = pred - true\n",
    "    derivative=ele_mul(delta,inp)\n",
    "    print(\"Iteration:\" + str(iter+1))\n",
    "    print(\"Pred:\" + str(pred))\n",
    "    print(\"Error:\" + str(error))\n",
    "    \n",
    "    for i in range(len(weights)):\n",
    "        weights[i]-=alpha*derivative[i]\n",
    "    print(\"Updated weights\",weights)\n",
    "    print()"
   ]
  }
 ],
 "metadata": {
  "kernelspec": {
   "display_name": "Python 3",
   "language": "python",
   "name": "python3"
  },
  "language_info": {
   "codemirror_mode": {
    "name": "ipython",
    "version": 3
   },
   "file_extension": ".py",
   "mimetype": "text/x-python",
   "name": "python",
   "nbconvert_exporter": "python",
   "pygments_lexer": "ipython3",
   "version": "3.6.9"
  }
 },
 "nbformat": 4,
 "nbformat_minor": 4
}
