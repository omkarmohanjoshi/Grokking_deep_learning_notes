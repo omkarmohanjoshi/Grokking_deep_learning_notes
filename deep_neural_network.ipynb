{
 "cells": [
  {
   "cell_type": "code",
   "execution_count": null,
   "metadata": {},
   "outputs": [],
   "source": [
    "import numpy as np\n",
    "np.random.seed(1)\n",
    "np.set_printoptions(suppress=True) \n",
    "\n",
    "#Returns x if x > 0; returns 0 otherwise\n",
    "def relu(x):\n",
    "    return (x > 0) * x\n",
    "\n",
    "#Returns 1 for input > 0; returns 0 otherwise\n",
    "def relu2deriv(output):\n",
    "    return output>0"
   ]
  },
  {
   "cell_type": "code",
   "execution_count": null,
   "metadata": {},
   "outputs": [],
   "source": [
    "#given input data\n",
    "input_data = np.array([[1,0,1],\n",
    "                        [0,1,1],\n",
    "                        [0,0,1],\n",
    "                        [1,1,1]])\n",
    "\n",
    "#desired output\n",
    "true_output = np.array([[ 1, 1, 0, 0]]).T\n",
    "\n",
    "\n",
    "#parameters value\n",
    "\n",
    "alpha = 0.2\n",
    "\n",
    "#no of nodes in the middle hidden layer\n",
    "hidden_size = 4\n",
    "\n",
    "#initialzing the random weights\n",
    "weights_0_1 = 2*np.random.random((3,hidden_size)) - 1\n",
    "weights_1_2 = 2*np.random.random((hidden_size,1)) - 1\n",
    "\n",
    "#to append prediction \n",
    "final_prediction = []\n",
    "for iteration in range(100):\n",
    "    #setting the initial error to be 0\n",
    "    layer_2_error = 0\n",
    "    #to append prediction of a single iteration\n",
    "    output = []\n",
    "    for i in range(len(input_data)):\n",
    "        #input layer\n",
    "        layer_0 = input_data[i:i+1]\n",
    "        #hidden layer\n",
    "        layer_1 = relu(np.dot(layer_0,weights_0_1))\n",
    "        #output layer\n",
    "        layer_2 = np.dot(layer_1,weights_1_2)\n",
    "        output.append(layer_2)\n",
    "        final_prediction.append(output)\n",
    "        #finding error\n",
    "        layer_2_error += np.sum((layer_2 - true_output[i:i+1]) ** 2)\n",
    "        #pure error (delta) of layer_2\n",
    "        layer_2_delta = (layer_2 - true_output[i:i+1])\n",
    "        #finding delta for layer_1 using backpropagation\n",
    "        layer_1_delta=layer_2_delta.dot(weights_1_2.T)*relu2deriv(layer_1)\n",
    "        #updating the weights for next iteration\n",
    "        weights_1_2 -= alpha * layer_1.T.dot(layer_2_delta)\n",
    "        weights_0_1 -= alpha * layer_0.T.dot(layer_1_delta)\n",
    "#final prediction after 100 iterations        \n",
    "print(final_prediction[-1])"
   ]
  }
 ],
 "metadata": {
  "kernelspec": {
   "display_name": "Python 3",
   "language": "python",
   "name": "python3"
  },
  "language_info": {
   "codemirror_mode": {
    "name": "ipython",
    "version": 3
   },
   "file_extension": ".py",
   "mimetype": "text/x-python",
   "name": "python",
   "nbconvert_exporter": "python",
   "pygments_lexer": "ipython3",
   "version": "3.6.9"
  }
 },
 "nbformat": 4,
 "nbformat_minor": 4
}
